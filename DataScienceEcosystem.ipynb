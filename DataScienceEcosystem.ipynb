{
 "cells": [
  {
   "cell_type": "markdown",
   "id": "51dbc6cc-e7d5-4fce-ba65-f52b909e1b94",
   "metadata": {},
   "source": [
    "Data Science Tools and Ecosystem"
   ]
  },
  {
   "cell_type": "markdown",
   "id": "8ec470ce-23d8-482b-97e0-b45d9d148228",
   "metadata": {},
   "source": [
    "In this notebook, we will explore several basic aspects of data science, from languages and libraries to code examples. We will also look at useful tools and how to perform simple conversions in Python."
   ]
  },
  {
   "cell_type": "markdown",
   "id": "bd2b3ec0-eaee-4f06-9cd9-427bb5e64f0c",
   "metadata": {},
   "source": [
    "Objectives\n",
    "List popular languages for Data Science\n",
    "    \"Learn the fundamentals of data science\",\n",
    "    \"Familiarize with languages and libraries\",\n",
    "    \"Develop data analysis skills\",\n",
    "    \"Implement examples in Python\""
   ]
  },
  {
   "cell_type": "markdown",
   "id": "50a0eed4-44e1-499c-a3dc-a4ac2be142c9",
   "metadata": {},
   "source": [
    "Some of the popular languages that Data Scientists use are:\n",
    "1. Python\n",
    "2. R\n",
    "3. Julia\n",
    "4. SQL\n",
    "5. Scala\n",
    "6. Java"
   ]
  },
  {
   "cell_type": "markdown",
   "id": "e876f33a-c929-4a0b-8df1-b483264003b2",
   "metadata": {},
   "source": [
    "Some of the commonly used libraries used by Data Scientists include:\n",
    "1. NumPy\n",
    "2. Pandas\n",
    "3. Matplotlib\n",
    "4. Scikit-learn\n",
    "5. TensorFlow\n",
    "6. Keras\n",
    "7. PyTorch"
   ]
  },
  {
   "cell_type": "markdown",
   "id": "1e49ec40-63be-43ce-a6d4-2a3a5bbe5b02",
   "metadata": {},
   "source": [
    "Data Science Tools\n",
    "  | Tool                | Description                              |\n",
    "|---------------------|------------------------------------------|\n",
    "| Jupyter Notebook    | Interactive notebook environment         |\n",
    "| RStudio             | IDE for R and Python                     |\n",
    "| Apache Hadoop       | Framework for data processing            |\n",
    "| Tableau             | Data visualization tool                  |\n",
    "| Microsoft Excel     | Spreadsheet and data analysis tool       |\n",
    "| Google Colab        | Cloud-based notebook environment         |"
   ]
  },
  {
   "cell_type": "markdown",
   "id": "05895e36-36dc-40c4-9b6e-d5aed0e8f47c",
   "metadata": {},
   "source": [
    "Below are a few examples of evaluating arithmetic expressions in Python"
   ]
  },
  {
   "cell_type": "code",
   "execution_count": 12,
   "id": "3f40c1b6-61af-40ce-a8f9-940e13557347",
   "metadata": {},
   "outputs": [
    {
     "data": {
      "text/plain": [
       "17"
      ]
     },
     "execution_count": 12,
     "metadata": {},
     "output_type": "execute_result"
    }
   ],
   "source": [
    "# This is a simple arithmetic expression to multiply then add integers.\n",
    "(3 * 4) + 5"
   ]
  },
  {
   "cell_type": "code",
   "execution_count": 13,
   "id": "10fd1dc6-aabd-4ca2-8398-c05aaa8bed11",
   "metadata": {
    "scrolled": true
   },
   "outputs": [
    {
     "data": {
      "text/plain": [
       "3.3333333333333335"
      ]
     },
     "execution_count": 13,
     "metadata": {},
     "output_type": "execute_result"
    }
   ],
   "source": [
    " # This will convert 200 minutes to hours by diving by 60\n",
    "(200/60)"
   ]
  },
  {
   "cell_type": "markdown",
   "id": "52495c8e-ab09-46fa-ade0-dc5740b7d818",
   "metadata": {},
   "source": [
    "## Author\n",
    "Fredy Alarcon Manosalva"
   ]
  }
 ],
 "metadata": {
  "kernelspec": {
   "display_name": "Python 3 (ipykernel)",
   "language": "python",
   "name": "python3"
  },
  "language_info": {
   "codemirror_mode": {
    "name": "ipython",
    "version": 3
   },
   "file_extension": ".py",
   "mimetype": "text/x-python",
   "name": "python",
   "nbconvert_exporter": "python",
   "pygments_lexer": "ipython3",
   "version": "3.11.9"
  }
 },
 "nbformat": 4,
 "nbformat_minor": 5
}
